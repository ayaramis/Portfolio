{
 "cells": [
  {
   "cell_type": "code",
   "execution_count": 1,
   "metadata": {},
   "outputs": [],
   "source": [
    "import numpy as np\n",
    "import pandas as pd"
   ]
  },
  {
   "cell_type": "code",
   "execution_count": 2,
   "metadata": {},
   "outputs": [],
   "source": [
    "test = pd.read_csv('test_genetic_disorders.csv')\n",
    "train = pd.read_csv('train_genetic_disorders.csv')"
   ]
  },
  {
   "cell_type": "code",
   "execution_count": 4,
   "metadata": {},
   "outputs": [
    {
     "data": {
      "text/plain": [
       "Index(['Patient Id', 'Patient Age', 'Genes in mother's side',\n",
       "       'Inherited from father', 'Maternal gene', 'Paternal gene',\n",
       "       'Blood cell count (mcL)', 'Patient First Name', 'Family Name',\n",
       "       'Father's name', 'Mother's age', 'Father's age', 'Institute Name',\n",
       "       'Location of Institute', 'Status', 'Respiratory Rate (breaths/min)',\n",
       "       'Heart Rate (rates/min', 'Test 1', 'Test 2', 'Test 3', 'Test 4',\n",
       "       'Test 5', 'Parental consent', 'Follow-up', 'Gender', 'Birth asphyxia',\n",
       "       'Autopsy shows birth defect (if applicable)', 'Place of birth',\n",
       "       'Folic acid details (peri-conceptional)',\n",
       "       'H/O serious maternal illness', 'H/O radiation exposure (x-ray)',\n",
       "       'H/O substance abuse', 'Assisted conception IVF/ART',\n",
       "       'History of anomalies in previous pregnancies',\n",
       "       'No. of previous abortion', 'Birth defects',\n",
       "       'White Blood cell count (thousand per microliter)', 'Blood test result',\n",
       "       'Symptom 1', 'Symptom 2', 'Symptom 3', 'Symptom 4', 'Symptom 5'],\n",
       "      dtype='object')"
      ]
     },
     "execution_count": 4,
     "metadata": {},
     "output_type": "execute_result"
    }
   ],
   "source": [
    "test.columns"
   ]
  }
 ],
 "metadata": {
  "kernelspec": {
   "display_name": "Python 3",
   "language": "python",
   "name": "python3"
  },
  "language_info": {
   "codemirror_mode": {
    "name": "ipython",
    "version": 3
   },
   "file_extension": ".py",
   "mimetype": "text/x-python",
   "name": "python",
   "nbconvert_exporter": "python",
   "pygments_lexer": "ipython3",
   "version": "3.11.8"
  }
 },
 "nbformat": 4,
 "nbformat_minor": 2
}
