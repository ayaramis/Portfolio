{
 "cells": [
  {
   "cell_type": "code",
   "execution_count": 1,
   "metadata": {},
   "outputs": [],
   "source": [
    "import numpy as numpy\n",
    "import pandas as pd"
   ]
  },
  {
   "cell_type": "code",
   "execution_count": 32,
   "metadata": {},
   "outputs": [],
   "source": [
    "df0 = pd.read_csv('ncbi_dataset (3).tsv', sep='\\t')\n",
    "df1 = pd.read_csv('ncbi_dataset (1).tsv', sep='\\t')\n",
    "df = pd.concat([df0, df1])"
   ]
  },
  {
   "cell_type": "code",
   "execution_count": 33,
   "metadata": {},
   "outputs": [
    {
     "data": {
      "text/plain": [
       "(5209, 15)"
      ]
     },
     "execution_count": 33,
     "metadata": {},
     "output_type": "execute_result"
    }
   ],
   "source": [
    "df[]"
   ]
  },
  {
   "cell_type": "code",
   "execution_count": 34,
   "metadata": {},
   "outputs": [
    {
     "data": {
      "text/html": [
       "<div>\n",
       "<style scoped>\n",
       "    .dataframe tbody tr th:only-of-type {\n",
       "        vertical-align: middle;\n",
       "    }\n",
       "\n",
       "    .dataframe tbody tr th {\n",
       "        vertical-align: top;\n",
       "    }\n",
       "\n",
       "    .dataframe thead th {\n",
       "        text-align: right;\n",
       "    }\n",
       "</style>\n",
       "<table border=\"1\" class=\"dataframe\">\n",
       "  <thead>\n",
       "    <tr style=\"text-align: right;\">\n",
       "      <th></th>\n",
       "      <th>Accession</th>\n",
       "      <th>Begin</th>\n",
       "      <th>End</th>\n",
       "      <th>Chromosome</th>\n",
       "      <th>Orientation</th>\n",
       "      <th>Name</th>\n",
       "      <th>Symbol</th>\n",
       "      <th>Gene ID</th>\n",
       "      <th>Gene Type</th>\n",
       "      <th>Transcripts accession</th>\n",
       "      <th>Transcript name</th>\n",
       "      <th>Protein accession</th>\n",
       "      <th>Protein name</th>\n",
       "      <th>Protein length</th>\n",
       "      <th>Locus tag</th>\n",
       "    </tr>\n",
       "  </thead>\n",
       "  <tbody>\n",
       "    <tr>\n",
       "      <th>2332</th>\n",
       "      <td>NZ_SPNK01000022.1</td>\n",
       "      <td>3841</td>\n",
       "      <td>4563</td>\n",
       "      <td>NaN</td>\n",
       "      <td>plus</td>\n",
       "      <td>uncharacterized gene</td>\n",
       "      <td>NaN</td>\n",
       "      <td>64265087</td>\n",
       "      <td>pseudogene</td>\n",
       "      <td>NaN</td>\n",
       "      <td>NaN</td>\n",
       "      <td>NaN</td>\n",
       "      <td>NaN</td>\n",
       "      <td>NaN</td>\n",
       "      <td>E4P33_RS11675</td>\n",
       "    </tr>\n",
       "    <tr>\n",
       "      <th>2333</th>\n",
       "      <td>NZ_SPNK01000023.1</td>\n",
       "      <td>143</td>\n",
       "      <td>1540</td>\n",
       "      <td>NaN</td>\n",
       "      <td>plus</td>\n",
       "      <td>IS1380 family transposase</td>\n",
       "      <td>NaN</td>\n",
       "      <td>64265088</td>\n",
       "      <td>protein-coding</td>\n",
       "      <td>NaN</td>\n",
       "      <td>NaN</td>\n",
       "      <td>WP_169577822.1</td>\n",
       "      <td>IS1380 family transposase</td>\n",
       "      <td>465.0</td>\n",
       "      <td>E4P33_RS11680</td>\n",
       "    </tr>\n",
       "    <tr>\n",
       "      <th>2334</th>\n",
       "      <td>NZ_SPNK01000024.1</td>\n",
       "      <td>287</td>\n",
       "      <td>736</td>\n",
       "      <td>NaN</td>\n",
       "      <td>minus</td>\n",
       "      <td>VOC family protein</td>\n",
       "      <td>NaN</td>\n",
       "      <td>64265089</td>\n",
       "      <td>protein-coding</td>\n",
       "      <td>NaN</td>\n",
       "      <td>NaN</td>\n",
       "      <td>WP_135010949.1</td>\n",
       "      <td>VOC family protein</td>\n",
       "      <td>149.0</td>\n",
       "      <td>E4P33_RS11685</td>\n",
       "    </tr>\n",
       "    <tr>\n",
       "      <th>2335</th>\n",
       "      <td>NZ_SPNK01000024.1</td>\n",
       "      <td>733</td>\n",
       "      <td>960</td>\n",
       "      <td>NaN</td>\n",
       "      <td>minus</td>\n",
       "      <td>hypothetical protein</td>\n",
       "      <td>NaN</td>\n",
       "      <td>64265090</td>\n",
       "      <td>protein-coding</td>\n",
       "      <td>NaN</td>\n",
       "      <td>NaN</td>\n",
       "      <td>WP_200829469.1</td>\n",
       "      <td>hypothetical protein</td>\n",
       "      <td>75.0</td>\n",
       "      <td>E4P33_RS11690</td>\n",
       "    </tr>\n",
       "    <tr>\n",
       "      <th>2336</th>\n",
       "      <td>NZ_SPNK01000026.1</td>\n",
       "      <td>1</td>\n",
       "      <td>555</td>\n",
       "      <td>NaN</td>\n",
       "      <td>plus</td>\n",
       "      <td>integrase core domain-containing protein</td>\n",
       "      <td>NaN</td>\n",
       "      <td>64265092</td>\n",
       "      <td>protein-coding</td>\n",
       "      <td>NaN</td>\n",
       "      <td>NaN</td>\n",
       "      <td>WP_135010951.1</td>\n",
       "      <td>integrase core domain-containing protein</td>\n",
       "      <td>184.0</td>\n",
       "      <td>E4P33_RS11700</td>\n",
       "    </tr>\n",
       "  </tbody>\n",
       "</table>\n",
       "</div>"
      ],
      "text/plain": [
       "              Accession  Begin   End  Chromosome Orientation  \\\n",
       "2332  NZ_SPNK01000022.1   3841  4563         NaN        plus   \n",
       "2333  NZ_SPNK01000023.1    143  1540         NaN        plus   \n",
       "2334  NZ_SPNK01000024.1    287   736         NaN       minus   \n",
       "2335  NZ_SPNK01000024.1    733   960         NaN       minus   \n",
       "2336  NZ_SPNK01000026.1      1   555         NaN        plus   \n",
       "\n",
       "                                          Name Symbol   Gene ID  \\\n",
       "2332                      uncharacterized gene    NaN  64265087   \n",
       "2333                 IS1380 family transposase    NaN  64265088   \n",
       "2334                        VOC family protein    NaN  64265089   \n",
       "2335                      hypothetical protein    NaN  64265090   \n",
       "2336  integrase core domain-containing protein    NaN  64265092   \n",
       "\n",
       "           Gene Type  Transcripts accession  Transcript name  \\\n",
       "2332      pseudogene                    NaN              NaN   \n",
       "2333  protein-coding                    NaN              NaN   \n",
       "2334  protein-coding                    NaN              NaN   \n",
       "2335  protein-coding                    NaN              NaN   \n",
       "2336  protein-coding                    NaN              NaN   \n",
       "\n",
       "     Protein accession                              Protein name  \\\n",
       "2332               NaN                                       NaN   \n",
       "2333    WP_169577822.1                 IS1380 family transposase   \n",
       "2334    WP_135010949.1                        VOC family protein   \n",
       "2335    WP_200829469.1                      hypothetical protein   \n",
       "2336    WP_135010951.1  integrase core domain-containing protein   \n",
       "\n",
       "      Protein length      Locus tag  \n",
       "2332             NaN  E4P33_RS11675  \n",
       "2333           465.0  E4P33_RS11680  \n",
       "2334           149.0  E4P33_RS11685  \n",
       "2335            75.0  E4P33_RS11690  \n",
       "2336           184.0  E4P33_RS11700  "
      ]
     },
     "execution_count": 34,
     "metadata": {},
     "output_type": "execute_result"
    }
   ],
   "source": [
    "df.tail()"
   ]
  },
  {
   "cell_type": "code",
   "execution_count": 44,
   "metadata": {},
   "outputs": [
    {
     "data": {
      "text/html": [
       "<div>\n",
       "<style scoped>\n",
       "    .dataframe tbody tr th:only-of-type {\n",
       "        vertical-align: middle;\n",
       "    }\n",
       "\n",
       "    .dataframe tbody tr th {\n",
       "        vertical-align: top;\n",
       "    }\n",
       "\n",
       "    .dataframe thead th {\n",
       "        text-align: right;\n",
       "    }\n",
       "</style>\n",
       "<table border=\"1\" class=\"dataframe\">\n",
       "  <thead>\n",
       "    <tr style=\"text-align: right;\">\n",
       "      <th></th>\n",
       "      <th>count</th>\n",
       "      <th>unique</th>\n",
       "      <th>top</th>\n",
       "      <th>freq</th>\n",
       "    </tr>\n",
       "  </thead>\n",
       "  <tbody>\n",
       "    <tr>\n",
       "      <th>Accession</th>\n",
       "      <td>5209</td>\n",
       "      <td>26</td>\n",
       "      <td>NC_007795.1</td>\n",
       "      <td>2872</td>\n",
       "    </tr>\n",
       "    <tr>\n",
       "      <th>Orientation</th>\n",
       "      <td>5209</td>\n",
       "      <td>2</td>\n",
       "      <td>minus</td>\n",
       "      <td>2663</td>\n",
       "    </tr>\n",
       "    <tr>\n",
       "      <th>Name</th>\n",
       "      <td>5209</td>\n",
       "      <td>2360</td>\n",
       "      <td>hypothetical protein</td>\n",
       "      <td>1750</td>\n",
       "    </tr>\n",
       "    <tr>\n",
       "      <th>Symbol</th>\n",
       "      <td>733</td>\n",
       "      <td>554</td>\n",
       "      <td>rrf</td>\n",
       "      <td>4</td>\n",
       "    </tr>\n",
       "    <tr>\n",
       "      <th>Gene Type</th>\n",
       "      <td>5209</td>\n",
       "      <td>6</td>\n",
       "      <td>protein-coding</td>\n",
       "      <td>5023</td>\n",
       "    </tr>\n",
       "    <tr>\n",
       "      <th>Protein accession</th>\n",
       "      <td>5023</td>\n",
       "      <td>5023</td>\n",
       "      <td>YP_498609.1</td>\n",
       "      <td>1</td>\n",
       "    </tr>\n",
       "    <tr>\n",
       "      <th>Protein name</th>\n",
       "      <td>5023</td>\n",
       "      <td>2328</td>\n",
       "      <td>hypothetical protein</td>\n",
       "      <td>1750</td>\n",
       "    </tr>\n",
       "    <tr>\n",
       "      <th>Locus tag</th>\n",
       "      <td>5209</td>\n",
       "      <td>5209</td>\n",
       "      <td>SAOUHSC_00001</td>\n",
       "      <td>1</td>\n",
       "    </tr>\n",
       "  </tbody>\n",
       "</table>\n",
       "</div>"
      ],
      "text/plain": [
       "                  count unique                   top  freq\n",
       "Accession          5209     26           NC_007795.1  2872\n",
       "Orientation        5209      2                 minus  2663\n",
       "Name               5209   2360  hypothetical protein  1750\n",
       "Symbol              733    554                   rrf     4\n",
       "Gene Type          5209      6        protein-coding  5023\n",
       "Protein accession  5023   5023           YP_498609.1     1\n",
       "Protein name       5023   2328  hypothetical protein  1750\n",
       "Locus tag          5209   5209         SAOUHSC_00001     1"
      ]
     },
     "execution_count": 44,
     "metadata": {},
     "output_type": "execute_result"
    }
   ],
   "source": [
    "df.describe(include='object').T"
   ]
  },
  {
   "cell_type": "code",
   "execution_count": 46,
   "metadata": {},
   "outputs": [
    {
     "data": {
      "text/plain": [
       "Accession                   0\n",
       "Begin                       0\n",
       "End                         0\n",
       "Chromosome               5209\n",
       "Orientation                 0\n",
       "Name                        0\n",
       "Symbol                   4476\n",
       "Gene ID                     0\n",
       "Gene Type                   0\n",
       "Transcripts accession    5209\n",
       "Transcript name          5209\n",
       "Protein accession         186\n",
       "Protein name              186\n",
       "Protein length            186\n",
       "Locus tag                   0\n",
       "dtype: int64"
      ]
     },
     "execution_count": 46,
     "metadata": {},
     "output_type": "execute_result"
    }
   ],
   "source": [
    "df.isnull().sum()"
   ]
  },
  {
   "cell_type": "code",
   "execution_count": 41,
   "metadata": {},
   "outputs": [
    {
     "data": {
      "text/plain": [
       "array(['plus', 'minus'], dtype=object)"
      ]
     },
     "execution_count": 41,
     "metadata": {},
     "output_type": "execute_result"
    }
   ],
   "source": [
    "df['Orientation'].unique()"
   ]
  },
  {
   "cell_type": "code",
   "execution_count": 47,
   "metadata": {},
   "outputs": [
    {
     "data": {
      "text/plain": [
       "Index(['Accession', 'Begin', 'End', 'Chromosome', 'Orientation', 'Name',\n",
       "       'Symbol', 'Gene ID', 'Gene Type', 'Transcripts accession',\n",
       "       'Transcript name', 'Protein accession', 'Protein name',\n",
       "       'Protein length', 'Locus tag'],\n",
       "      dtype='object')"
      ]
     },
     "execution_count": 47,
     "metadata": {},
     "output_type": "execute_result"
    }
   ],
   "source": [
    "df.columns"
   ]
  },
  {
   "cell_type": "code",
   "execution_count": 49,
   "metadata": {},
   "outputs": [
    {
     "data": {
      "text/plain": [
       "5023"
      ]
     },
     "execution_count": 49,
     "metadata": {},
     "output_type": "execute_result"
    }
   ],
   "source": [
    "df['Protein accession'].nunique()"
   ]
  },
  {
   "cell_type": "code",
   "execution_count": 53,
   "metadata": {},
   "outputs": [
    {
     "data": {
      "text/plain": [
       "310.47023691021303"
      ]
     },
     "execution_count": 53,
     "metadata": {},
     "output_type": "execute_result"
    }
   ],
   "source": [
    "df['Protein length'].mean()"
   ]
  }
 ],
 "metadata": {
  "kernelspec": {
   "display_name": "Python 3",
   "language": "python",
   "name": "python3"
  },
  "language_info": {
   "codemirror_mode": {
    "name": "ipython",
    "version": 3
   },
   "file_extension": ".py",
   "mimetype": "text/x-python",
   "name": "python",
   "nbconvert_exporter": "python",
   "pygments_lexer": "ipython3",
   "version": "3.11.7"
  }
 },
 "nbformat": 4,
 "nbformat_minor": 2
}
