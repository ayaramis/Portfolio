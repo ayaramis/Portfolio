{
 "cells": [
  {
   "cell_type": "markdown",
   "metadata": {},
   "source": [
    "# <p style=\"background-color:green;font-family:newtimeroman;font-size:100%;color:white;text-align:center;border-radius:20px 20px;\"><b>Soldier Race Project</b></p>"
   ]
  },
  {
   "cell_type": "markdown",
   "metadata": {},
   "source": [
    "# WELCOME!"
   ]
  },
  {
   "cell_type": "markdown",
   "metadata": {},
   "source": [
    "In this project, you must apply EDA processes for the development of predictive models. Handling outliers, domain knowledge and feature engineering will be challenges.\n",
    "\n",
    "Also, this project aims to improve your ability to implement algorithms for Multi-Class Classification. Thus, you will have the opportunity to implement many algorithms commonly used for Multi-Class Classification problems.\n",
    "\n",
    "Before diving into the project, please take a look at the determines and tasks."
   ]
  },
  {
   "cell_type": "markdown",
   "metadata": {},
   "source": [
    "# Determines"
   ]
  },
  {
   "cell_type": "markdown",
   "metadata": {},
   "source": [
    "The 2012 US Army Anthropometric Survey (ANSUR II) was executed by the Natick Soldier Research, Development and Engineering Center (NSRDEC) from October 2010 to April 2012 and is comprised of personnel representing the total US Army force to include the US Army Active Duty, Reserves, and National Guard. In addition to the anthropometric and demographic data described below, the ANSUR II database also consists of 3D whole body, foot, and head scans of Soldier participants. These 3D data are not publicly available out of respect for the privacy of ANSUR II participants. The data from this survey are used for a wide range of equipment design, sizing, and tariffing applications within the military and has many potential commercial, industrial, and academic applications.\n",
    "\n",
    "The ANSUR II working databases contain 93 anthropometric measurements which were directly measured, and 15 demographic/administrative variables explained below. The ANSUR II Male working database contains a total sample of 4,082 subjects. The ANSUR II Female working database contains a total sample of 1,986 subjects.\n",
    "\n",
    "\n",
    "DATA DICT:\n",
    "https://data.world/datamil/ansur-ii-data-dictionary/workspace/file?filename=ANSUR+II+Databases+Overview.pdf\n",
    "\n",
    "---\n",
    "\n",
    "To achieve high prediction success, you must understand the data well and develop different approaches that can affect the dependent variable.\n",
    "\n",
    "Firstly, try to understand the dataset column by column using pandas module. Do research within the scope of domain (body scales, and race characteristics) knowledge on the internet to get to know the data set in the fastest way. \n",
    "\n",
    "You will implement ***Logistic Regression, Bagging Methods, Boosting Methods*** algorithms. Also, evaluate the success of your models with appropriate performance metrics.\n",
    "\n",
    "At the end of the project, choose the most successful model and try to enhance the scores with ***SMOTE*** make it ready to deploy. Furthermore, use ***SHAP*** to explain how the best model you choose works."
   ]
  },
  {
   "cell_type": "markdown",
   "metadata": {},
   "source": [
    "# Import Modules, Load Data and Data Review"
   ]
  },
  {
   "cell_type": "code",
   "execution_count": 49,
   "metadata": {},
   "outputs": [],
   "source": [
    "import pandas as pd\n",
    "import numpy as np\n",
    "import matplotlib.pyplot as plt\n",
    "import seaborn as sns\n",
    "plt.rcParams[\"figure.figsize\"] = (9,5)\n",
    "import warnings\n",
    "warnings.filterwarnings('ignore')\n",
    "pd.set_option('display.max_rows', 1000)\n",
    "pd.set_option('display.max_columns', 1000)\n",
    "pd.set_option('display.width', 1000)"
   ]
  },
  {
   "cell_type": "markdown",
   "metadata": {},
   "source": [
    "# Exploratory Data Analysis and Visualization"
   ]
  },
  {
   "cell_type": "code",
   "execution_count": 50,
   "metadata": {},
   "outputs": [],
   "source": [
    "male = pd.read_csv('https://query.data.world/s/h3pbhckz5ck4rc7qmt2wlknlnn7esr', encoding='latin-1')\n",
    "female = pd.read_csv('https://query.data.world/s/sq27zz4hawg32yfxksqwijxmpwmynq', encoding='latin-1')\n",
    "\n"
   ]
  },
  {
   "cell_type": "code",
   "execution_count": 51,
   "metadata": {},
   "outputs": [],
   "source": [
    "male = male.drop(columns='subjectid')"
   ]
  },
  {
   "cell_type": "code",
   "execution_count": 52,
   "metadata": {},
   "outputs": [
    {
     "data": {
      "text/plain": [
       "(4082, 107)"
      ]
     },
     "execution_count": 52,
     "metadata": {},
     "output_type": "execute_result"
    }
   ],
   "source": [
    "male.shape"
   ]
  },
  {
   "cell_type": "code",
   "execution_count": 53,
   "metadata": {},
   "outputs": [],
   "source": [
    "\n",
    "female = female.drop(columns='SubjectId')"
   ]
  },
  {
   "cell_type": "code",
   "execution_count": 54,
   "metadata": {},
   "outputs": [
    {
     "data": {
      "text/plain": [
       "(1986, 107)"
      ]
     },
     "execution_count": 54,
     "metadata": {},
     "output_type": "execute_result"
    }
   ],
   "source": [
    "female.shape"
   ]
  },
  {
   "cell_type": "code",
   "execution_count": 55,
   "metadata": {},
   "outputs": [],
   "source": [
    "df = pd.concat([male, female], axis=0).reset_index(drop=True)"
   ]
  },
  {
   "cell_type": "code",
   "execution_count": 56,
   "metadata": {},
   "outputs": [
    {
     "data": {
      "text/plain": [
       "(6068, 107)"
      ]
     },
     "execution_count": 56,
     "metadata": {},
     "output_type": "execute_result"
    }
   ],
   "source": [
    "df.shape"
   ]
  },
  {
   "cell_type": "code",
   "execution_count": 57,
   "metadata": {},
   "outputs": [
    {
     "name": "stdout",
     "output_type": "stream",
     "text": [
      "<class 'pandas.core.frame.DataFrame'>\n",
      "RangeIndex: 6068 entries, 0 to 6067\n",
      "Data columns (total 107 columns):\n",
      " #    Column                          Non-Null Count  Dtype \n",
      "---   ------                          --------------  ----- \n",
      " 0    abdominalextensiondepthsitting  6068 non-null   int64 \n",
      " 1    acromialheight                  6068 non-null   int64 \n",
      " 2    acromionradialelength           6068 non-null   int64 \n",
      " 3    anklecircumference              6068 non-null   int64 \n",
      " 4    axillaheight                    6068 non-null   int64 \n",
      " 5    balloffootcircumference         6068 non-null   int64 \n",
      " 6    balloffootlength                6068 non-null   int64 \n",
      " 7    biacromialbreadth               6068 non-null   int64 \n",
      " 8    bicepscircumferenceflexed       6068 non-null   int64 \n",
      " 9    bicristalbreadth                6068 non-null   int64 \n",
      " 10   bideltoidbreadth                6068 non-null   int64 \n",
      " 11   bimalleolarbreadth              6068 non-null   int64 \n",
      " 12   bitragionchinarc                6068 non-null   int64 \n",
      " 13   bitragionsubmandibulararc       6068 non-null   int64 \n",
      " 14   bizygomaticbreadth              6068 non-null   int64 \n",
      " 15   buttockcircumference            6068 non-null   int64 \n",
      " 16   buttockdepth                    6068 non-null   int64 \n",
      " 17   buttockheight                   6068 non-null   int64 \n",
      " 18   buttockkneelength               6068 non-null   int64 \n",
      " 19   buttockpopliteallength          6068 non-null   int64 \n",
      " 20   calfcircumference               6068 non-null   int64 \n",
      " 21   cervicaleheight                 6068 non-null   int64 \n",
      " 22   chestbreadth                    6068 non-null   int64 \n",
      " 23   chestcircumference              6068 non-null   int64 \n",
      " 24   chestdepth                      6068 non-null   int64 \n",
      " 25   chestheight                     6068 non-null   int64 \n",
      " 26   crotchheight                    6068 non-null   int64 \n",
      " 27   crotchlengthomphalion           6068 non-null   int64 \n",
      " 28   crotchlengthposterioromphalion  6068 non-null   int64 \n",
      " 29   earbreadth                      6068 non-null   int64 \n",
      " 30   earlength                       6068 non-null   int64 \n",
      " 31   earprotrusion                   6068 non-null   int64 \n",
      " 32   elbowrestheight                 6068 non-null   int64 \n",
      " 33   eyeheightsitting                6068 non-null   int64 \n",
      " 34   footbreadthhorizontal           6068 non-null   int64 \n",
      " 35   footlength                      6068 non-null   int64 \n",
      " 36   forearmcenterofgriplength       6068 non-null   int64 \n",
      " 37   forearmcircumferenceflexed      6068 non-null   int64 \n",
      " 38   forearmforearmbreadth           6068 non-null   int64 \n",
      " 39   forearmhandlength               6068 non-null   int64 \n",
      " 40   functionalleglength             6068 non-null   int64 \n",
      " 41   handbreadth                     6068 non-null   int64 \n",
      " 42   handcircumference               6068 non-null   int64 \n",
      " 43   handlength                      6068 non-null   int64 \n",
      " 44   headbreadth                     6068 non-null   int64 \n",
      " 45   headcircumference               6068 non-null   int64 \n",
      " 46   headlength                      6068 non-null   int64 \n",
      " 47   heelanklecircumference          6068 non-null   int64 \n",
      " 48   heelbreadth                     6068 non-null   int64 \n",
      " 49   hipbreadth                      6068 non-null   int64 \n",
      " 50   hipbreadthsitting               6068 non-null   int64 \n",
      " 51   iliocristaleheight              6068 non-null   int64 \n",
      " 52   interpupillarybreadth           6068 non-null   int64 \n",
      " 53   interscyei                      6068 non-null   int64 \n",
      " 54   interscyeii                     6068 non-null   int64 \n",
      " 55   kneeheightmidpatella            6068 non-null   int64 \n",
      " 56   kneeheightsitting               6068 non-null   int64 \n",
      " 57   lateralfemoralepicondyleheight  6068 non-null   int64 \n",
      " 58   lateralmalleolusheight          6068 non-null   int64 \n",
      " 59   lowerthighcircumference         6068 non-null   int64 \n",
      " 60   mentonsellionlength             6068 non-null   int64 \n",
      " 61   neckcircumference               6068 non-null   int64 \n",
      " 62   neckcircumferencebase           6068 non-null   int64 \n",
      " 63   overheadfingertipreachsitting   6068 non-null   int64 \n",
      " 64   palmlength                      6068 non-null   int64 \n",
      " 65   poplitealheight                 6068 non-null   int64 \n",
      " 66   radialestylionlength            6068 non-null   int64 \n",
      " 67   shouldercircumference           6068 non-null   int64 \n",
      " 68   shoulderelbowlength             6068 non-null   int64 \n",
      " 69   shoulderlength                  6068 non-null   int64 \n",
      " 70   sittingheight                   6068 non-null   int64 \n",
      " 71   sleevelengthspinewrist          6068 non-null   int64 \n",
      " 72   sleeveoutseam                   6068 non-null   int64 \n",
      " 73   span                            6068 non-null   int64 \n",
      " 74   stature                         6068 non-null   int64 \n",
      " 75   suprasternaleheight             6068 non-null   int64 \n",
      " 76   tenthribheight                  6068 non-null   int64 \n",
      " 77   thighcircumference              6068 non-null   int64 \n",
      " 78   thighclearance                  6068 non-null   int64 \n",
      " 79   thumbtipreach                   6068 non-null   int64 \n",
      " 80   tibialheight                    6068 non-null   int64 \n",
      " 81   tragiontopofhead                6068 non-null   int64 \n",
      " 82   trochanterionheight             6068 non-null   int64 \n",
      " 83   verticaltrunkcircumferenceusa   6068 non-null   int64 \n",
      " 84   waistbacklength                 6068 non-null   int64 \n",
      " 85   waistbreadth                    6068 non-null   int64 \n",
      " 86   waistcircumference              6068 non-null   int64 \n",
      " 87   waistdepth                      6068 non-null   int64 \n",
      " 88   waistfrontlengthsitting         6068 non-null   int64 \n",
      " 89   waistheightomphalion            6068 non-null   int64 \n",
      " 90   weightkg                        6068 non-null   int64 \n",
      " 91   wristcircumference              6068 non-null   int64 \n",
      " 92   wristheight                     6068 non-null   int64 \n",
      " 93   Gender                          6068 non-null   object\n",
      " 94   Date                            6068 non-null   object\n",
      " 95   Installation                    6068 non-null   object\n",
      " 96   Component                       6068 non-null   object\n",
      " 97   Branch                          6068 non-null   object\n",
      " 98   PrimaryMOS                      6068 non-null   object\n",
      " 99   SubjectsBirthLocation           6068 non-null   object\n",
      " 100  SubjectNumericRace              6068 non-null   int64 \n",
      " 101  Ethnicity                       1421 non-null   object\n",
      " 102  DODRace                         6068 non-null   int64 \n",
      " 103  Age                             6068 non-null   int64 \n",
      " 104  Heightin                        6068 non-null   int64 \n",
      " 105  Weightlbs                       6068 non-null   int64 \n",
      " 106  WritingPreference               6068 non-null   object\n",
      "dtypes: int64(98), object(9)\n",
      "memory usage: 5.0+ MB\n"
     ]
    }
   ],
   "source": [
    "df.info(verbose=True, show_counts=True)"
   ]
  },
  {
   "cell_type": "code",
   "execution_count": 64,
   "metadata": {},
   "outputs": [
    {
     "data": {
      "text/html": [
       "<div>\n",
       "<style scoped>\n",
       "    .dataframe tbody tr th:only-of-type {\n",
       "        vertical-align: middle;\n",
       "    }\n",
       "\n",
       "    .dataframe tbody tr th {\n",
       "        vertical-align: top;\n",
       "    }\n",
       "\n",
       "    .dataframe thead th {\n",
       "        text-align: right;\n",
       "    }\n",
       "</style>\n",
       "<table border=\"1\" class=\"dataframe\">\n",
       "  <thead>\n",
       "    <tr style=\"text-align: right;\">\n",
       "      <th></th>\n",
       "      <th>abdominalextensiondepthsitting</th>\n",
       "      <th>acromialheight</th>\n",
       "      <th>acromionradialelength</th>\n",
       "      <th>anklecircumference</th>\n",
       "      <th>axillaheight</th>\n",
       "      <th>balloffootcircumference</th>\n",
       "      <th>balloffootlength</th>\n",
       "      <th>biacromialbreadth</th>\n",
       "      <th>bicepscircumferenceflexed</th>\n",
       "      <th>bicristalbreadth</th>\n",
       "      <th>bideltoidbreadth</th>\n",
       "      <th>bimalleolarbreadth</th>\n",
       "      <th>bitragionchinarc</th>\n",
       "      <th>bitragionsubmandibulararc</th>\n",
       "      <th>bizygomaticbreadth</th>\n",
       "      <th>buttockcircumference</th>\n",
       "      <th>buttockdepth</th>\n",
       "      <th>buttockheight</th>\n",
       "      <th>buttockkneelength</th>\n",
       "      <th>buttockpopliteallength</th>\n",
       "      <th>calfcircumference</th>\n",
       "      <th>cervicaleheight</th>\n",
       "      <th>chestbreadth</th>\n",
       "      <th>chestcircumference</th>\n",
       "      <th>chestdepth</th>\n",
       "      <th>chestheight</th>\n",
       "      <th>crotchheight</th>\n",
       "      <th>crotchlengthomphalion</th>\n",
       "      <th>crotchlengthposterioromphalion</th>\n",
       "      <th>earbreadth</th>\n",
       "      <th>earlength</th>\n",
       "      <th>earprotrusion</th>\n",
       "      <th>elbowrestheight</th>\n",
       "      <th>eyeheightsitting</th>\n",
       "      <th>footbreadthhorizontal</th>\n",
       "      <th>footlength</th>\n",
       "      <th>forearmcenterofgriplength</th>\n",
       "      <th>forearmcircumferenceflexed</th>\n",
       "      <th>forearmforearmbreadth</th>\n",
       "      <th>forearmhandlength</th>\n",
       "      <th>functionalleglength</th>\n",
       "      <th>handbreadth</th>\n",
       "      <th>handcircumference</th>\n",
       "      <th>handlength</th>\n",
       "      <th>headbreadth</th>\n",
       "      <th>headcircumference</th>\n",
       "      <th>headlength</th>\n",
       "      <th>heelanklecircumference</th>\n",
       "      <th>heelbreadth</th>\n",
       "      <th>hipbreadth</th>\n",
       "      <th>hipbreadthsitting</th>\n",
       "      <th>iliocristaleheight</th>\n",
       "      <th>interpupillarybreadth</th>\n",
       "      <th>interscyei</th>\n",
       "      <th>interscyeii</th>\n",
       "      <th>kneeheightmidpatella</th>\n",
       "      <th>kneeheightsitting</th>\n",
       "      <th>lateralfemoralepicondyleheight</th>\n",
       "      <th>lateralmalleolusheight</th>\n",
       "      <th>lowerthighcircumference</th>\n",
       "      <th>mentonsellionlength</th>\n",
       "      <th>neckcircumference</th>\n",
       "      <th>neckcircumferencebase</th>\n",
       "      <th>overheadfingertipreachsitting</th>\n",
       "      <th>palmlength</th>\n",
       "      <th>poplitealheight</th>\n",
       "      <th>radialestylionlength</th>\n",
       "      <th>shouldercircumference</th>\n",
       "      <th>shoulderelbowlength</th>\n",
       "      <th>shoulderlength</th>\n",
       "      <th>sittingheight</th>\n",
       "      <th>sleevelengthspinewrist</th>\n",
       "      <th>sleeveoutseam</th>\n",
       "      <th>span</th>\n",
       "      <th>stature</th>\n",
       "      <th>suprasternaleheight</th>\n",
       "      <th>tenthribheight</th>\n",
       "      <th>thighcircumference</th>\n",
       "      <th>thighclearance</th>\n",
       "      <th>thumbtipreach</th>\n",
       "      <th>tibialheight</th>\n",
       "      <th>tragiontopofhead</th>\n",
       "      <th>trochanterionheight</th>\n",
       "      <th>verticaltrunkcircumferenceusa</th>\n",
       "      <th>waistbacklength</th>\n",
       "      <th>waistbreadth</th>\n",
       "      <th>waistcircumference</th>\n",
       "      <th>waistdepth</th>\n",
       "      <th>waistfrontlengthsitting</th>\n",
       "      <th>waistheightomphalion</th>\n",
       "      <th>weightkg</th>\n",
       "      <th>wristcircumference</th>\n",
       "      <th>wristheight</th>\n",
       "      <th>Gender</th>\n",
       "      <th>Date</th>\n",
       "      <th>Installation</th>\n",
       "      <th>Component</th>\n",
       "      <th>Branch</th>\n",
       "      <th>PrimaryMOS</th>\n",
       "      <th>SubjectsBirthLocation</th>\n",
       "      <th>SubjectNumericRace</th>\n",
       "      <th>Ethnicity</th>\n",
       "      <th>DODRace</th>\n",
       "      <th>Age</th>\n",
       "      <th>Heightin</th>\n",
       "      <th>Weightlbs</th>\n",
       "      <th>WritingPreference</th>\n",
       "    </tr>\n",
       "  </thead>\n",
       "  <tbody>\n",
       "  </tbody>\n",
       "</table>\n",
       "</div>"
      ],
      "text/plain": [
       "Empty DataFrame\n",
       "Columns: [abdominalextensiondepthsitting, acromialheight, acromionradialelength, anklecircumference, axillaheight, balloffootcircumference, balloffootlength, biacromialbreadth, bicepscircumferenceflexed, bicristalbreadth, bideltoidbreadth, bimalleolarbreadth, bitragionchinarc, bitragionsubmandibulararc, bizygomaticbreadth, buttockcircumference, buttockdepth, buttockheight, buttockkneelength, buttockpopliteallength, calfcircumference, cervicaleheight, chestbreadth, chestcircumference, chestdepth, chestheight, crotchheight, crotchlengthomphalion, crotchlengthposterioromphalion, earbreadth, earlength, earprotrusion, elbowrestheight, eyeheightsitting, footbreadthhorizontal, footlength, forearmcenterofgriplength, forearmcircumferenceflexed, forearmforearmbreadth, forearmhandlength, functionalleglength, handbreadth, handcircumference, handlength, headbreadth, headcircumference, headlength, heelanklecircumference, heelbreadth, hipbreadth, hipbreadthsitting, iliocristaleheight, interpupillarybreadth, interscyei, interscyeii, kneeheightmidpatella, kneeheightsitting, lateralfemoralepicondyleheight, lateralmalleolusheight, lowerthighcircumference, mentonsellionlength, neckcircumference, neckcircumferencebase, overheadfingertipreachsitting, palmlength, poplitealheight, radialestylionlength, shouldercircumference, shoulderelbowlength, shoulderlength, sittingheight, sleevelengthspinewrist, sleeveoutseam, span, stature, suprasternaleheight, tenthribheight, thighcircumference, thighclearance, thumbtipreach, tibialheight, tragiontopofhead, trochanterionheight, verticaltrunkcircumferenceusa, waistbacklength, waistbreadth, waistcircumference, waistdepth, waistfrontlengthsitting, waistheightomphalion, weightkg, wristcircumference, wristheight, Gender, Date, Installation, Component, Branch, PrimaryMOS, SubjectsBirthLocation, ...]\n",
       "Index: []"
      ]
     },
     "execution_count": 64,
     "metadata": {},
     "output_type": "execute_result"
    }
   ],
   "source": [
    "df[df.duplicated]"
   ]
  },
  {
   "cell_type": "code",
   "execution_count": 58,
   "metadata": {},
   "outputs": [
    {
     "data": {
      "text/plain": [
       "abdominalextensiondepthsitting       0\n",
       "acromialheight                       0\n",
       "acromionradialelength                0\n",
       "anklecircumference                   0\n",
       "axillaheight                         0\n",
       "balloffootcircumference              0\n",
       "balloffootlength                     0\n",
       "biacromialbreadth                    0\n",
       "bicepscircumferenceflexed            0\n",
       "bicristalbreadth                     0\n",
       "bideltoidbreadth                     0\n",
       "bimalleolarbreadth                   0\n",
       "bitragionchinarc                     0\n",
       "bitragionsubmandibulararc            0\n",
       "bizygomaticbreadth                   0\n",
       "buttockcircumference                 0\n",
       "buttockdepth                         0\n",
       "buttockheight                        0\n",
       "buttockkneelength                    0\n",
       "buttockpopliteallength               0\n",
       "calfcircumference                    0\n",
       "cervicaleheight                      0\n",
       "chestbreadth                         0\n",
       "chestcircumference                   0\n",
       "chestdepth                           0\n",
       "chestheight                          0\n",
       "crotchheight                         0\n",
       "crotchlengthomphalion                0\n",
       "crotchlengthposterioromphalion       0\n",
       "earbreadth                           0\n",
       "earlength                            0\n",
       "earprotrusion                        0\n",
       "elbowrestheight                      0\n",
       "eyeheightsitting                     0\n",
       "footbreadthhorizontal                0\n",
       "footlength                           0\n",
       "forearmcenterofgriplength            0\n",
       "forearmcircumferenceflexed           0\n",
       "forearmforearmbreadth                0\n",
       "forearmhandlength                    0\n",
       "functionalleglength                  0\n",
       "handbreadth                          0\n",
       "handcircumference                    0\n",
       "handlength                           0\n",
       "headbreadth                          0\n",
       "headcircumference                    0\n",
       "headlength                           0\n",
       "heelanklecircumference               0\n",
       "heelbreadth                          0\n",
       "hipbreadth                           0\n",
       "hipbreadthsitting                    0\n",
       "iliocristaleheight                   0\n",
       "interpupillarybreadth                0\n",
       "interscyei                           0\n",
       "interscyeii                          0\n",
       "kneeheightmidpatella                 0\n",
       "kneeheightsitting                    0\n",
       "lateralfemoralepicondyleheight       0\n",
       "lateralmalleolusheight               0\n",
       "lowerthighcircumference              0\n",
       "mentonsellionlength                  0\n",
       "neckcircumference                    0\n",
       "neckcircumferencebase                0\n",
       "overheadfingertipreachsitting        0\n",
       "palmlength                           0\n",
       "poplitealheight                      0\n",
       "radialestylionlength                 0\n",
       "shouldercircumference                0\n",
       "shoulderelbowlength                  0\n",
       "shoulderlength                       0\n",
       "sittingheight                        0\n",
       "sleevelengthspinewrist               0\n",
       "sleeveoutseam                        0\n",
       "span                                 0\n",
       "stature                              0\n",
       "suprasternaleheight                  0\n",
       "tenthribheight                       0\n",
       "thighcircumference                   0\n",
       "thighclearance                       0\n",
       "thumbtipreach                        0\n",
       "tibialheight                         0\n",
       "tragiontopofhead                     0\n",
       "trochanterionheight                  0\n",
       "verticaltrunkcircumferenceusa        0\n",
       "waistbacklength                      0\n",
       "waistbreadth                         0\n",
       "waistcircumference                   0\n",
       "waistdepth                           0\n",
       "waistfrontlengthsitting              0\n",
       "waistheightomphalion                 0\n",
       "weightkg                             0\n",
       "wristcircumference                   0\n",
       "wristheight                          0\n",
       "Gender                               0\n",
       "Date                                 0\n",
       "Installation                         0\n",
       "Component                            0\n",
       "Branch                               0\n",
       "PrimaryMOS                           0\n",
       "SubjectsBirthLocation                0\n",
       "SubjectNumericRace                   0\n",
       "Ethnicity                         4647\n",
       "DODRace                              0\n",
       "Age                                  0\n",
       "Heightin                             0\n",
       "Weightlbs                            0\n",
       "WritingPreference                    0\n",
       "dtype: int64"
      ]
     },
     "execution_count": 58,
     "metadata": {},
     "output_type": "execute_result"
    }
   ],
   "source": [
    "df.isnull().sum()"
   ]
  },
  {
   "cell_type": "code",
   "execution_count": 66,
   "metadata": {},
   "outputs": [],
   "source": [
    "df = df.drop(['SubjectNumericRace','Ethnicity', 'Heightin', 'Weightlbs','Date', 'Installation','Component', 'Branch', 'PrimaryMOS'], axis=1)"
   ]
  },
  {
   "cell_type": "code",
   "execution_count": 67,
   "metadata": {},
   "outputs": [
    {
     "data": {
      "text/plain": [
       "SubjectsBirthLocation\n",
       "Alabama                     164\n",
       "Alaska                        8\n",
       "American Samoa                8\n",
       "Antigua and Barbuda           2\n",
       "Argentina                     1\n",
       "Arizona                      84\n",
       "Arkansas                     54\n",
       "Azerbaijan                    1\n",
       "Bahamas                       1\n",
       "Bangladesh                    1\n",
       "Barbados                      5\n",
       "Belarus                       1\n",
       "Belgium                       3\n",
       "Belize                        2\n",
       "Bermuda                       1\n",
       "Bolivia                       2\n",
       "Bosnia and Herzegovina        1\n",
       "Brazil                        1\n",
       "British Virgin Islands        1\n",
       "Bulgaria                      1\n",
       "Burma                         2\n",
       "California                  446\n",
       "Cambodia                      1\n",
       "Cameroon                      2\n",
       "Canada                        9\n",
       "Cape Verde                    1\n",
       "Chile                         1\n",
       "China                         8\n",
       "Colombia                     13\n",
       "Colorado                     81\n",
       "Connecticut                  36\n",
       "Costa Rica                    2\n",
       "Cuba                          4\n",
       "Delaware                     17\n",
       "Denmark                       1\n",
       "District of Columbia         19\n",
       "Dominica                      1\n",
       "Dominican Republic           17\n",
       "Ecuador                       5\n",
       "Egypt                         1\n",
       "El Salvador                   5\n",
       "Ethiopia                      1\n",
       "Fiji                          1\n",
       "Florida                     210\n",
       "France                        3\n",
       "French Guiana                 1\n",
       "Georgia                     170\n",
       "Germany                      92\n",
       "Ghana                         2\n",
       "Grenada                       4\n",
       "Guadalupe                     1\n",
       "Guam                         10\n",
       "Guatemala                     1\n",
       "Guyana                        9\n",
       "Haiti                        12\n",
       "Hawaii                       29\n",
       "Honduras                      4\n",
       "Iceland                       2\n",
       "Idaho                        20\n",
       "Illinois                    216\n",
       "India                         6\n",
       "Indiana                     266\n",
       "Iowa                         55\n",
       "Iran                          1\n",
       "Iraq                          2\n",
       "Israel                        3\n",
       "Italy                         2\n",
       "Ivory Coast                   1\n",
       "Jamaica                      35\n",
       "Japan                        11\n",
       "Kansas                       63\n",
       "Kentucky                     69\n",
       "Kenya                         3\n",
       "Korea                         1\n",
       "Laos                          3\n",
       "Lebanon                       2\n",
       "Liberia                       6\n",
       "Louisiana                   137\n",
       "Maine                        18\n",
       "Maryland                     80\n",
       "Massachusetts               112\n",
       "Mexico                       39\n",
       "Michigan                    196\n",
       "Micronesia                    2\n",
       "Minnesota                   200\n",
       "Mississippi                 194\n",
       "Missouri                     84\n",
       "Montana                      12\n",
       "Morocco                       3\n",
       "Nebraska                     31\n",
       "Nepal                         3\n",
       "Netherlands                   2\n",
       "Nevada                       24\n",
       "New Hampshire                14\n",
       "New Jersey                   89\n",
       "New Mexico                   17\n",
       "New York                    420\n",
       "New Zealand                   1\n",
       "Nicaragua                     4\n",
       "Nigeria                       4\n",
       "North Carolina              149\n",
       "North Dakota                 18\n",
       "Northern Mariana Islands      1\n",
       "Ohio                        142\n",
       "Oklahoma                    221\n",
       "Oregon                       42\n",
       "Palau                         2\n",
       "Panama                       10\n",
       "Paraguay                      1\n",
       "Pennsylvania                132\n",
       "Peru                          8\n",
       "Philippines                  46\n",
       "Poland                        5\n",
       "Portugal                      4\n",
       "Puerto Rico                  88\n",
       "Rhode Island                 19\n",
       "Romania                       3\n",
       "Russia                        8\n",
       "Saint Lucia                   1\n",
       "Senegal                       1\n",
       "Serbia                        1\n",
       "Sierra Leone                  2\n",
       "Singapore                     1\n",
       "South Africa                  4\n",
       "South America                 1\n",
       "South Carolina              161\n",
       "South Dakota                 56\n",
       "South Korea                  31\n",
       "Sri Lanka                     1\n",
       "Sudan                         2\n",
       "Syria                         1\n",
       "Taiwan                        2\n",
       "Tennessee                    74\n",
       "Texas                       397\n",
       "Thailand                      4\n",
       "Togo                          1\n",
       "Trinidad and Tobago           7\n",
       "Turkey                        2\n",
       "US Virgin Islands             7\n",
       "Ukraine                       7\n",
       "United Kingdom               11\n",
       "United States                 2\n",
       "Utah                         28\n",
       "Venezuela                     1\n",
       "Vermont                      13\n",
       "Vietnam                      13\n",
       "Virginia                    118\n",
       "Washington                   66\n",
       "West Virginia                26\n",
       "Wisconsin                   102\n",
       "Wyoming                       7\n",
       "Zambia                        1\n",
       "Name: DODRace, dtype: int64"
      ]
     },
     "execution_count": 67,
     "metadata": {},
     "output_type": "execute_result"
    }
   ],
   "source": [
    "df.groupby('SubjectsBirthLocation')['DODRace'].count()"
   ]
  },
  {
   "cell_type": "code",
   "execution_count": 68,
   "metadata": {},
   "outputs": [
    {
     "data": {
      "text/plain": [
       "DODRace\n",
       "1    3792\n",
       "2    1298\n",
       "3     679\n",
       "4     188\n",
       "6      59\n",
       "5      49\n",
       "8       3\n",
       "Name: count, dtype: int64"
      ]
     },
     "execution_count": 68,
     "metadata": {},
     "output_type": "execute_result"
    }
   ],
   "source": [
    "df['DODRace'].value_counts()"
   ]
  },
  {
   "cell_type": "code",
   "execution_count": 72,
   "metadata": {},
   "outputs": [],
   "source": [
    "df = df[df['DODRace'] < 4]"
   ]
  },
  {
   "cell_type": "code",
   "execution_count": 73,
   "metadata": {},
   "outputs": [
    {
     "data": {
      "text/plain": [
       "DODRace\n",
       "1    3792\n",
       "2    1298\n",
       "3     679\n",
       "Name: count, dtype: int64"
      ]
     },
     "execution_count": 73,
     "metadata": {},
     "output_type": "execute_result"
    }
   ],
   "source": [
    "df['DODRace'].value_counts()"
   ]
  },
  {
   "cell_type": "markdown",
   "metadata": {},
   "source": [
    "# EDA\n",
    "- Drop unnecessary colums\n",
    "- Drop DODRace class if value count below 500 (we assume that our data model can't learn if it is below 500)"
   ]
  },
  {
   "cell_type": "markdown",
   "metadata": {},
   "source": [
    "## Import Libraries\n",
    "Besides Numpy and Pandas, you need to import the necessary modules for data visualization, data preprocessing, Model building and tuning.\n",
    "\n",
    "*Note: Check out the course materials.*"
   ]
  },
  {
   "cell_type": "markdown",
   "metadata": {},
   "source": [
    "## Ingest Data from links below and make a dataframe\n",
    "- Soldiers Male : https://query.data.world/s/h3pbhckz5ck4rc7qmt2wlknlnn7esr\n",
    "- Soldiers Female : https://query.data.world/s/sq27zz4hawg32yfxksqwijxmpwmynq"
   ]
  },
  {
   "cell_type": "markdown",
   "metadata": {
    "heading_collapsed": true,
    "id": "Y5-Kay1Eqvdj"
   },
   "source": [
    "# EDA\n",
    "- Drop unnecessary colums\n",
    "- Drop DODRace class if value count below 500 (we assume that our data model can't learn if it is below 500)"
   ]
  },
  {
   "cell_type": "markdown",
   "metadata": {
    "id": "CS5-GZy0sl4s"
   },
   "source": [
    "# DATA Preprocessing\n",
    "- In this step we divide our data to X(Features) and y(Target) then ,\n",
    "- To train and evaluation purposes we create train and test sets,\n",
    "- Lastly, scale our data if features not in same scale. Why?"
   ]
  },
  {
   "cell_type": "markdown",
   "metadata": {
    "id": "zfi_NOw0s2fM"
   },
   "source": [
    "# Modelling\n",
    "- Fit the model with train dataset\n",
    "- Get predict from vanilla model on both train and test sets to examine if there is over/underfitting   \n",
    "- Apply GridseachCV for both hyperparemeter tuning and sanity test of our model.\n",
    "- Use hyperparameters that you find from gridsearch and make final prediction and evaluate the result according to chosen metric."
   ]
  },
  {
   "cell_type": "markdown",
   "metadata": {},
   "source": [
    "## Comparing Models"
   ]
  },
  {
   "cell_type": "markdown",
   "metadata": {
    "heading_collapsed": true
   },
   "source": [
    "# Before the Deployment \n",
    "- Choose the model that works best based on your chosen metric\n",
    "- For final step, fit the best model with whole dataset to get better performance.\n",
    "- And your model ready to deploy, dump your model and scaler."
   ]
  },
  {
   "cell_type": "markdown",
   "metadata": {},
   "source": [
    "- Evaluation metrics \n",
    "https://towardsdatascience.com/comprehensive-guide-on-multiclass-classification-metrics-af94cfb83fbd"
   ]
  },
  {
   "cell_type": "markdown",
   "metadata": {
    "heading_collapsed": true
   },
   "source": [
    "# SMOTE\n",
    "https://machinelearningmastery.com/smote-oversampling-for-imbalanced-classification/"
   ]
  },
  {
   "cell_type": "markdown",
   "metadata": {
    "heading_collapsed": true
   },
   "source": [
    "#  SHAP"
   ]
  },
  {
   "cell_type": "markdown",
   "metadata": {
    "hidden": true
   },
   "source": [
    "https://towardsdatascience.com/shap-explain-any-machine-learning-model-in-python-24207127cad7"
   ]
  },
  {
   "cell_type": "markdown",
   "metadata": {},
   "source": [
    "# <p style=\"background-color:green;font-family:newtimeroman;font-size:100%;color:white;text-align:center;border-radius:20px 20px;\"><b>The End</b></p>"
   ]
  }
 ],
 "metadata": {
  "colab": {
   "name": "soldier_assignment.ipynb",
   "provenance": []
  },
  "hide_input": false,
  "interpreter": {
   "hash": "e4e90950cb561445fc7289d5187c528b28750a487d008a70b474c773afaf79b7"
  },
  "kernelspec": {
   "display_name": "Python 3 (ipykernel)",
   "language": "python",
   "name": "python3"
  },
  "language_info": {
   "codemirror_mode": {
    "name": "ipython",
    "version": 3
   },
   "file_extension": ".py",
   "mimetype": "text/x-python",
   "name": "python",
   "nbconvert_exporter": "python",
   "pygments_lexer": "ipython3",
   "version": "3.11.8"
  },
  "toc": {
   "base_numbering": 1,
   "nav_menu": {},
   "number_sections": true,
   "sideBar": true,
   "skip_h1_title": false,
   "title_cell": "Table of Contents",
   "title_sidebar": "Contents",
   "toc_cell": false,
   "toc_position": {
    "height": "calc(100% - 180px)",
    "left": "10px",
    "top": "150px",
    "width": "344.797px"
   },
   "toc_section_display": true,
   "toc_window_display": true
  },
  "varInspector": {
   "cols": {
    "lenName": 16,
    "lenType": 16,
    "lenVar": 40
   },
   "kernels_config": {
    "python": {
     "delete_cmd_postfix": "",
     "delete_cmd_prefix": "del ",
     "library": "var_list.py",
     "varRefreshCmd": "print(var_dic_list())"
    },
    "r": {
     "delete_cmd_postfix": ") ",
     "delete_cmd_prefix": "rm(",
     "library": "var_list.r",
     "varRefreshCmd": "cat(var_dic_list()) "
    }
   },
   "oldHeight": 527,
   "position": {
    "height": "40px",
    "left": "1034px",
    "right": "20px",
    "top": "185px",
    "width": "661px"
   },
   "types_to_exclude": [
    "module",
    "function",
    "builtin_function_or_method",
    "instance",
    "_Feature"
   ],
   "varInspector_section_display": "none",
   "window_display": false
  }
 },
 "nbformat": 4,
 "nbformat_minor": 4
}
